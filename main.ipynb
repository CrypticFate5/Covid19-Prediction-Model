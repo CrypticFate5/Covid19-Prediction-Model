{
 "cells": [
  {
   "cell_type": "code",
   "execution_count": 133,
   "metadata": {},
   "outputs": [],
   "source": [
    "import pandas as pd\n",
    "import numpy as np\n",
    "import matplotlib.pyplot as plt\n",
    "import seaborn as sns\n",
    "from sklearn.preprocessing import StandardScaler,MinMaxScaler\n",
    "from sklearn.linear_model import LogisticRegression\n",
    "from sklearn.tree import DecisionTreeClassifier\n",
    "from sklearn.svm import SVC\n",
    "from sklearn.model_selection import train_test_split,cross_val_score,GridSearchCV\n",
    "from sklearn.ensemble import AdaBoostClassifier,GradientBoostingClassifier,RandomForestClassifier\n",
    "from sklearn import metrics\n",
    "from sklearn.preprocessing import RobustScaler\n",
    "from xgboost import XGBClassifier\n",
    "import warnings\n",
    "warnings.filterwarnings(\"ignore\")\n",
    "%matplotlib inline"
   ]
  },
  {
   "attachments": {},
   "cell_type": "markdown",
   "metadata": {},
   "source": [
    "## Let's check the data"
   ]
  },
  {
   "cell_type": "code",
   "execution_count": 134,
   "metadata": {},
   "outputs": [],
   "source": [
    "covid=pd.read_csv(\"data.csv\")"
   ]
  },
  {
   "cell_type": "code",
   "execution_count": 135,
   "metadata": {},
   "outputs": [
    {
     "data": {
      "text/html": [
       "<div>\n",
       "<style scoped>\n",
       "    .dataframe tbody tr th:only-of-type {\n",
       "        vertical-align: middle;\n",
       "    }\n",
       "\n",
       "    .dataframe tbody tr th {\n",
       "        vertical-align: top;\n",
       "    }\n",
       "\n",
       "    .dataframe thead th {\n",
       "        text-align: right;\n",
       "    }\n",
       "</style>\n",
       "<table border=\"1\" class=\"dataframe\">\n",
       "  <thead>\n",
       "    <tr style=\"text-align: right;\">\n",
       "      <th></th>\n",
       "      <th>USMER</th>\n",
       "      <th>MEDICAL_UNIT</th>\n",
       "      <th>SEX</th>\n",
       "      <th>PATIENT_TYPE</th>\n",
       "      <th>DATE_DIED</th>\n",
       "      <th>INTUBED</th>\n",
       "      <th>PNEUMONIA</th>\n",
       "      <th>AGE</th>\n",
       "      <th>PREGNANT</th>\n",
       "      <th>DIABETES</th>\n",
       "      <th>...</th>\n",
       "      <th>ASTHMA</th>\n",
       "      <th>INMSUPR</th>\n",
       "      <th>HIPERTENSION</th>\n",
       "      <th>OTHER_DISEASE</th>\n",
       "      <th>CARDIOVASCULAR</th>\n",
       "      <th>OBESITY</th>\n",
       "      <th>RENAL_CHRONIC</th>\n",
       "      <th>TOBACCO</th>\n",
       "      <th>CLASSIFICATION_FINAL</th>\n",
       "      <th>ICU</th>\n",
       "    </tr>\n",
       "  </thead>\n",
       "  <tbody>\n",
       "    <tr>\n",
       "      <th>0</th>\n",
       "      <td>2</td>\n",
       "      <td>1</td>\n",
       "      <td>1</td>\n",
       "      <td>1</td>\n",
       "      <td>03-05-2020</td>\n",
       "      <td>97</td>\n",
       "      <td>1</td>\n",
       "      <td>65</td>\n",
       "      <td>2</td>\n",
       "      <td>2</td>\n",
       "      <td>...</td>\n",
       "      <td>2</td>\n",
       "      <td>2</td>\n",
       "      <td>1</td>\n",
       "      <td>2</td>\n",
       "      <td>2</td>\n",
       "      <td>2</td>\n",
       "      <td>2</td>\n",
       "      <td>2</td>\n",
       "      <td>3</td>\n",
       "      <td>97</td>\n",
       "    </tr>\n",
       "    <tr>\n",
       "      <th>1</th>\n",
       "      <td>2</td>\n",
       "      <td>1</td>\n",
       "      <td>2</td>\n",
       "      <td>1</td>\n",
       "      <td>03-06-2020</td>\n",
       "      <td>97</td>\n",
       "      <td>1</td>\n",
       "      <td>72</td>\n",
       "      <td>97</td>\n",
       "      <td>2</td>\n",
       "      <td>...</td>\n",
       "      <td>2</td>\n",
       "      <td>2</td>\n",
       "      <td>1</td>\n",
       "      <td>2</td>\n",
       "      <td>2</td>\n",
       "      <td>1</td>\n",
       "      <td>1</td>\n",
       "      <td>2</td>\n",
       "      <td>5</td>\n",
       "      <td>97</td>\n",
       "    </tr>\n",
       "    <tr>\n",
       "      <th>2</th>\n",
       "      <td>2</td>\n",
       "      <td>1</td>\n",
       "      <td>2</td>\n",
       "      <td>2</td>\n",
       "      <td>09-06-2020</td>\n",
       "      <td>1</td>\n",
       "      <td>2</td>\n",
       "      <td>55</td>\n",
       "      <td>97</td>\n",
       "      <td>1</td>\n",
       "      <td>...</td>\n",
       "      <td>2</td>\n",
       "      <td>2</td>\n",
       "      <td>2</td>\n",
       "      <td>2</td>\n",
       "      <td>2</td>\n",
       "      <td>2</td>\n",
       "      <td>2</td>\n",
       "      <td>2</td>\n",
       "      <td>3</td>\n",
       "      <td>2</td>\n",
       "    </tr>\n",
       "    <tr>\n",
       "      <th>3</th>\n",
       "      <td>2</td>\n",
       "      <td>1</td>\n",
       "      <td>1</td>\n",
       "      <td>1</td>\n",
       "      <td>12-06-2020</td>\n",
       "      <td>97</td>\n",
       "      <td>2</td>\n",
       "      <td>53</td>\n",
       "      <td>2</td>\n",
       "      <td>2</td>\n",
       "      <td>...</td>\n",
       "      <td>2</td>\n",
       "      <td>2</td>\n",
       "      <td>2</td>\n",
       "      <td>2</td>\n",
       "      <td>2</td>\n",
       "      <td>2</td>\n",
       "      <td>2</td>\n",
       "      <td>2</td>\n",
       "      <td>7</td>\n",
       "      <td>97</td>\n",
       "    </tr>\n",
       "    <tr>\n",
       "      <th>4</th>\n",
       "      <td>2</td>\n",
       "      <td>1</td>\n",
       "      <td>2</td>\n",
       "      <td>1</td>\n",
       "      <td>21-06-2020</td>\n",
       "      <td>97</td>\n",
       "      <td>2</td>\n",
       "      <td>68</td>\n",
       "      <td>97</td>\n",
       "      <td>1</td>\n",
       "      <td>...</td>\n",
       "      <td>2</td>\n",
       "      <td>2</td>\n",
       "      <td>1</td>\n",
       "      <td>2</td>\n",
       "      <td>2</td>\n",
       "      <td>2</td>\n",
       "      <td>2</td>\n",
       "      <td>2</td>\n",
       "      <td>3</td>\n",
       "      <td>97</td>\n",
       "    </tr>\n",
       "  </tbody>\n",
       "</table>\n",
       "<p>5 rows × 21 columns</p>\n",
       "</div>"
      ],
      "text/plain": [
       "   USMER  MEDICAL_UNIT  SEX  PATIENT_TYPE   DATE_DIED  INTUBED  PNEUMONIA  \\\n",
       "0      2             1    1             1  03-05-2020       97          1   \n",
       "1      2             1    2             1  03-06-2020       97          1   \n",
       "2      2             1    2             2  09-06-2020        1          2   \n",
       "3      2             1    1             1  12-06-2020       97          2   \n",
       "4      2             1    2             1  21-06-2020       97          2   \n",
       "\n",
       "   AGE  PREGNANT  DIABETES  ...  ASTHMA  INMSUPR  HIPERTENSION  OTHER_DISEASE  \\\n",
       "0   65         2         2  ...       2        2             1              2   \n",
       "1   72        97         2  ...       2        2             1              2   \n",
       "2   55        97         1  ...       2        2             2              2   \n",
       "3   53         2         2  ...       2        2             2              2   \n",
       "4   68        97         1  ...       2        2             1              2   \n",
       "\n",
       "   CARDIOVASCULAR  OBESITY  RENAL_CHRONIC  TOBACCO  CLASSIFICATION_FINAL  ICU  \n",
       "0               2        2              2        2                     3   97  \n",
       "1               2        1              1        2                     5   97  \n",
       "2               2        2              2        2                     3    2  \n",
       "3               2        2              2        2                     7   97  \n",
       "4               2        2              2        2                     3   97  \n",
       "\n",
       "[5 rows x 21 columns]"
      ]
     },
     "execution_count": 135,
     "metadata": {},
     "output_type": "execute_result"
    }
   ],
   "source": [
    "covid.head()"
   ]
  },
  {
   "cell_type": "code",
   "execution_count": 136,
   "metadata": {},
   "outputs": [
    {
     "data": {
      "text/plain": [
       "(1048575, 21)"
      ]
     },
     "execution_count": 136,
     "metadata": {},
     "output_type": "execute_result"
    }
   ],
   "source": [
    "covid.shape"
   ]
  },
  {
   "attachments": {},
   "cell_type": "markdown",
   "metadata": {},
   "source": [
    "We can see that there are 1048575 rows and 21 features"
   ]
  },
  {
   "cell_type": "code",
   "execution_count": 137,
   "metadata": {},
   "outputs": [
    {
     "name": "stdout",
     "output_type": "stream",
     "text": [
      "<class 'pandas.core.frame.DataFrame'>\n",
      "RangeIndex: 1048575 entries, 0 to 1048574\n",
      "Data columns (total 21 columns):\n",
      " #   Column                Non-Null Count    Dtype \n",
      "---  ------                --------------    ----- \n",
      " 0   USMER                 1048575 non-null  int64 \n",
      " 1   MEDICAL_UNIT          1048575 non-null  int64 \n",
      " 2   SEX                   1048575 non-null  int64 \n",
      " 3   PATIENT_TYPE          1048575 non-null  int64 \n",
      " 4   DATE_DIED             1048575 non-null  object\n",
      " 5   INTUBED               1048575 non-null  int64 \n",
      " 6   PNEUMONIA             1048575 non-null  int64 \n",
      " 7   AGE                   1048575 non-null  int64 \n",
      " 8   PREGNANT              1048575 non-null  int64 \n",
      " 9   DIABETES              1048575 non-null  int64 \n",
      " 10  COPD                  1048575 non-null  int64 \n",
      " 11  ASTHMA                1048575 non-null  int64 \n",
      " 12  INMSUPR               1048575 non-null  int64 \n",
      " 13  HIPERTENSION          1048575 non-null  int64 \n",
      " 14  OTHER_DISEASE         1048575 non-null  int64 \n",
      " 15  CARDIOVASCULAR        1048575 non-null  int64 \n",
      " 16  OBESITY               1048575 non-null  int64 \n",
      " 17  RENAL_CHRONIC         1048575 non-null  int64 \n",
      " 18  TOBACCO               1048575 non-null  int64 \n",
      " 19  CLASSIFICATION_FINAL  1048575 non-null  int64 \n",
      " 20  ICU                   1048575 non-null  int64 \n",
      "dtypes: int64(20), object(1)\n",
      "memory usage: 168.0+ MB\n"
     ]
    }
   ],
   "source": [
    "covid.info()"
   ]
  },
  {
   "cell_type": "code",
   "execution_count": 138,
   "metadata": {},
   "outputs": [
    {
     "data": {
      "text/plain": [
       "USMER                   0\n",
       "MEDICAL_UNIT            0\n",
       "SEX                     0\n",
       "PATIENT_TYPE            0\n",
       "DATE_DIED               0\n",
       "INTUBED                 0\n",
       "PNEUMONIA               0\n",
       "AGE                     0\n",
       "PREGNANT                0\n",
       "DIABETES                0\n",
       "COPD                    0\n",
       "ASTHMA                  0\n",
       "INMSUPR                 0\n",
       "HIPERTENSION            0\n",
       "OTHER_DISEASE           0\n",
       "CARDIOVASCULAR          0\n",
       "OBESITY                 0\n",
       "RENAL_CHRONIC           0\n",
       "TOBACCO                 0\n",
       "CLASSIFICATION_FINAL    0\n",
       "ICU                     0\n",
       "dtype: int64"
      ]
     },
     "execution_count": 138,
     "metadata": {},
     "output_type": "execute_result"
    }
   ],
   "source": [
    "covid.isna().sum()"
   ]
  },
  {
   "attachments": {},
   "cell_type": "markdown",
   "metadata": {},
   "source": [
    "We can see that there are no null/missing values, but also as specified in dataset, the missing values are replaced by values such as 97,97 and 99"
   ]
  },
  {
   "attachments": {},
   "cell_type": "markdown",
   "metadata": {},
   "source": [
    "We also have to look into the DATE_DIED column as it contains a different classification of data,so we will change the 9999-99-99 to 2, which means no(basically not dead) and the rest to 1 (which means dead) so that this column is also a type of category thing."
   ]
  },
  {
   "cell_type": "code",
   "execution_count": 139,
   "metadata": {},
   "outputs": [],
   "source": [
    "covid['DEATH']=[2 if each ==\"9999-99-99\" else  1 for each in covid['DATE_DIED']]"
   ]
  },
  {
   "cell_type": "code",
   "execution_count": 140,
   "metadata": {},
   "outputs": [],
   "source": [
    "covid.drop(columns='DATE_DIED',inplace=True)"
   ]
  },
  {
   "cell_type": "code",
   "execution_count": 141,
   "metadata": {},
   "outputs": [
    {
     "data": {
      "text/html": [
       "<div>\n",
       "<style scoped>\n",
       "    .dataframe tbody tr th:only-of-type {\n",
       "        vertical-align: middle;\n",
       "    }\n",
       "\n",
       "    .dataframe tbody tr th {\n",
       "        vertical-align: top;\n",
       "    }\n",
       "\n",
       "    .dataframe thead th {\n",
       "        text-align: right;\n",
       "    }\n",
       "</style>\n",
       "<table border=\"1\" class=\"dataframe\">\n",
       "  <thead>\n",
       "    <tr style=\"text-align: right;\">\n",
       "      <th></th>\n",
       "      <th>USMER</th>\n",
       "      <th>MEDICAL_UNIT</th>\n",
       "      <th>SEX</th>\n",
       "      <th>PATIENT_TYPE</th>\n",
       "      <th>INTUBED</th>\n",
       "      <th>PNEUMONIA</th>\n",
       "      <th>AGE</th>\n",
       "      <th>PREGNANT</th>\n",
       "      <th>DIABETES</th>\n",
       "      <th>COPD</th>\n",
       "      <th>...</th>\n",
       "      <th>INMSUPR</th>\n",
       "      <th>HIPERTENSION</th>\n",
       "      <th>OTHER_DISEASE</th>\n",
       "      <th>CARDIOVASCULAR</th>\n",
       "      <th>OBESITY</th>\n",
       "      <th>RENAL_CHRONIC</th>\n",
       "      <th>TOBACCO</th>\n",
       "      <th>CLASSIFICATION_FINAL</th>\n",
       "      <th>ICU</th>\n",
       "      <th>DEATH</th>\n",
       "    </tr>\n",
       "  </thead>\n",
       "  <tbody>\n",
       "    <tr>\n",
       "      <th>count</th>\n",
       "      <td>1.048575e+06</td>\n",
       "      <td>1.048575e+06</td>\n",
       "      <td>1.048575e+06</td>\n",
       "      <td>1.048575e+06</td>\n",
       "      <td>1.048575e+06</td>\n",
       "      <td>1.048575e+06</td>\n",
       "      <td>1.048575e+06</td>\n",
       "      <td>1.048575e+06</td>\n",
       "      <td>1.048575e+06</td>\n",
       "      <td>1.048575e+06</td>\n",
       "      <td>...</td>\n",
       "      <td>1.048575e+06</td>\n",
       "      <td>1.048575e+06</td>\n",
       "      <td>1.048575e+06</td>\n",
       "      <td>1.048575e+06</td>\n",
       "      <td>1.048575e+06</td>\n",
       "      <td>1.048575e+06</td>\n",
       "      <td>1.048575e+06</td>\n",
       "      <td>1.048575e+06</td>\n",
       "      <td>1.048575e+06</td>\n",
       "      <td>1.048575e+06</td>\n",
       "    </tr>\n",
       "    <tr>\n",
       "      <th>mean</th>\n",
       "      <td>1.632194e+00</td>\n",
       "      <td>8.980565e+00</td>\n",
       "      <td>1.499259e+00</td>\n",
       "      <td>1.190765e+00</td>\n",
       "      <td>7.952288e+01</td>\n",
       "      <td>3.346831e+00</td>\n",
       "      <td>4.179410e+01</td>\n",
       "      <td>4.976558e+01</td>\n",
       "      <td>2.186404e+00</td>\n",
       "      <td>2.260569e+00</td>\n",
       "      <td>...</td>\n",
       "      <td>2.298132e+00</td>\n",
       "      <td>2.128989e+00</td>\n",
       "      <td>2.435143e+00</td>\n",
       "      <td>2.261810e+00</td>\n",
       "      <td>2.125176e+00</td>\n",
       "      <td>2.257180e+00</td>\n",
       "      <td>2.214333e+00</td>\n",
       "      <td>5.305653e+00</td>\n",
       "      <td>7.955397e+01</td>\n",
       "      <td>1.926622e+00</td>\n",
       "    </tr>\n",
       "    <tr>\n",
       "      <th>std</th>\n",
       "      <td>4.822084e-01</td>\n",
       "      <td>3.723278e+00</td>\n",
       "      <td>4.999997e-01</td>\n",
       "      <td>3.929041e-01</td>\n",
       "      <td>3.686889e+01</td>\n",
       "      <td>1.191288e+01</td>\n",
       "      <td>1.690739e+01</td>\n",
       "      <td>4.751073e+01</td>\n",
       "      <td>5.424242e+00</td>\n",
       "      <td>5.132258e+00</td>\n",
       "      <td>...</td>\n",
       "      <td>5.462843e+00</td>\n",
       "      <td>5.236397e+00</td>\n",
       "      <td>6.646676e+00</td>\n",
       "      <td>5.194850e+00</td>\n",
       "      <td>5.175445e+00</td>\n",
       "      <td>5.135354e+00</td>\n",
       "      <td>5.323097e+00</td>\n",
       "      <td>1.881165e+00</td>\n",
       "      <td>3.682307e+01</td>\n",
       "      <td>2.607556e-01</td>\n",
       "    </tr>\n",
       "    <tr>\n",
       "      <th>min</th>\n",
       "      <td>1.000000e+00</td>\n",
       "      <td>1.000000e+00</td>\n",
       "      <td>1.000000e+00</td>\n",
       "      <td>1.000000e+00</td>\n",
       "      <td>1.000000e+00</td>\n",
       "      <td>1.000000e+00</td>\n",
       "      <td>0.000000e+00</td>\n",
       "      <td>1.000000e+00</td>\n",
       "      <td>1.000000e+00</td>\n",
       "      <td>1.000000e+00</td>\n",
       "      <td>...</td>\n",
       "      <td>1.000000e+00</td>\n",
       "      <td>1.000000e+00</td>\n",
       "      <td>1.000000e+00</td>\n",
       "      <td>1.000000e+00</td>\n",
       "      <td>1.000000e+00</td>\n",
       "      <td>1.000000e+00</td>\n",
       "      <td>1.000000e+00</td>\n",
       "      <td>1.000000e+00</td>\n",
       "      <td>1.000000e+00</td>\n",
       "      <td>1.000000e+00</td>\n",
       "    </tr>\n",
       "    <tr>\n",
       "      <th>25%</th>\n",
       "      <td>1.000000e+00</td>\n",
       "      <td>4.000000e+00</td>\n",
       "      <td>1.000000e+00</td>\n",
       "      <td>1.000000e+00</td>\n",
       "      <td>9.700000e+01</td>\n",
       "      <td>2.000000e+00</td>\n",
       "      <td>3.000000e+01</td>\n",
       "      <td>2.000000e+00</td>\n",
       "      <td>2.000000e+00</td>\n",
       "      <td>2.000000e+00</td>\n",
       "      <td>...</td>\n",
       "      <td>2.000000e+00</td>\n",
       "      <td>2.000000e+00</td>\n",
       "      <td>2.000000e+00</td>\n",
       "      <td>2.000000e+00</td>\n",
       "      <td>2.000000e+00</td>\n",
       "      <td>2.000000e+00</td>\n",
       "      <td>2.000000e+00</td>\n",
       "      <td>3.000000e+00</td>\n",
       "      <td>9.700000e+01</td>\n",
       "      <td>2.000000e+00</td>\n",
       "    </tr>\n",
       "    <tr>\n",
       "      <th>50%</th>\n",
       "      <td>2.000000e+00</td>\n",
       "      <td>1.200000e+01</td>\n",
       "      <td>1.000000e+00</td>\n",
       "      <td>1.000000e+00</td>\n",
       "      <td>9.700000e+01</td>\n",
       "      <td>2.000000e+00</td>\n",
       "      <td>4.000000e+01</td>\n",
       "      <td>9.700000e+01</td>\n",
       "      <td>2.000000e+00</td>\n",
       "      <td>2.000000e+00</td>\n",
       "      <td>...</td>\n",
       "      <td>2.000000e+00</td>\n",
       "      <td>2.000000e+00</td>\n",
       "      <td>2.000000e+00</td>\n",
       "      <td>2.000000e+00</td>\n",
       "      <td>2.000000e+00</td>\n",
       "      <td>2.000000e+00</td>\n",
       "      <td>2.000000e+00</td>\n",
       "      <td>6.000000e+00</td>\n",
       "      <td>9.700000e+01</td>\n",
       "      <td>2.000000e+00</td>\n",
       "    </tr>\n",
       "    <tr>\n",
       "      <th>75%</th>\n",
       "      <td>2.000000e+00</td>\n",
       "      <td>1.200000e+01</td>\n",
       "      <td>2.000000e+00</td>\n",
       "      <td>1.000000e+00</td>\n",
       "      <td>9.700000e+01</td>\n",
       "      <td>2.000000e+00</td>\n",
       "      <td>5.300000e+01</td>\n",
       "      <td>9.700000e+01</td>\n",
       "      <td>2.000000e+00</td>\n",
       "      <td>2.000000e+00</td>\n",
       "      <td>...</td>\n",
       "      <td>2.000000e+00</td>\n",
       "      <td>2.000000e+00</td>\n",
       "      <td>2.000000e+00</td>\n",
       "      <td>2.000000e+00</td>\n",
       "      <td>2.000000e+00</td>\n",
       "      <td>2.000000e+00</td>\n",
       "      <td>2.000000e+00</td>\n",
       "      <td>7.000000e+00</td>\n",
       "      <td>9.700000e+01</td>\n",
       "      <td>2.000000e+00</td>\n",
       "    </tr>\n",
       "    <tr>\n",
       "      <th>max</th>\n",
       "      <td>2.000000e+00</td>\n",
       "      <td>1.300000e+01</td>\n",
       "      <td>2.000000e+00</td>\n",
       "      <td>2.000000e+00</td>\n",
       "      <td>9.900000e+01</td>\n",
       "      <td>9.900000e+01</td>\n",
       "      <td>1.210000e+02</td>\n",
       "      <td>9.800000e+01</td>\n",
       "      <td>9.800000e+01</td>\n",
       "      <td>9.800000e+01</td>\n",
       "      <td>...</td>\n",
       "      <td>9.800000e+01</td>\n",
       "      <td>9.800000e+01</td>\n",
       "      <td>9.800000e+01</td>\n",
       "      <td>9.800000e+01</td>\n",
       "      <td>9.800000e+01</td>\n",
       "      <td>9.800000e+01</td>\n",
       "      <td>9.800000e+01</td>\n",
       "      <td>7.000000e+00</td>\n",
       "      <td>9.900000e+01</td>\n",
       "      <td>2.000000e+00</td>\n",
       "    </tr>\n",
       "  </tbody>\n",
       "</table>\n",
       "<p>8 rows × 21 columns</p>\n",
       "</div>"
      ],
      "text/plain": [
       "              USMER  MEDICAL_UNIT           SEX  PATIENT_TYPE       INTUBED  \\\n",
       "count  1.048575e+06  1.048575e+06  1.048575e+06  1.048575e+06  1.048575e+06   \n",
       "mean   1.632194e+00  8.980565e+00  1.499259e+00  1.190765e+00  7.952288e+01   \n",
       "std    4.822084e-01  3.723278e+00  4.999997e-01  3.929041e-01  3.686889e+01   \n",
       "min    1.000000e+00  1.000000e+00  1.000000e+00  1.000000e+00  1.000000e+00   \n",
       "25%    1.000000e+00  4.000000e+00  1.000000e+00  1.000000e+00  9.700000e+01   \n",
       "50%    2.000000e+00  1.200000e+01  1.000000e+00  1.000000e+00  9.700000e+01   \n",
       "75%    2.000000e+00  1.200000e+01  2.000000e+00  1.000000e+00  9.700000e+01   \n",
       "max    2.000000e+00  1.300000e+01  2.000000e+00  2.000000e+00  9.900000e+01   \n",
       "\n",
       "          PNEUMONIA           AGE      PREGNANT      DIABETES          COPD  \\\n",
       "count  1.048575e+06  1.048575e+06  1.048575e+06  1.048575e+06  1.048575e+06   \n",
       "mean   3.346831e+00  4.179410e+01  4.976558e+01  2.186404e+00  2.260569e+00   \n",
       "std    1.191288e+01  1.690739e+01  4.751073e+01  5.424242e+00  5.132258e+00   \n",
       "min    1.000000e+00  0.000000e+00  1.000000e+00  1.000000e+00  1.000000e+00   \n",
       "25%    2.000000e+00  3.000000e+01  2.000000e+00  2.000000e+00  2.000000e+00   \n",
       "50%    2.000000e+00  4.000000e+01  9.700000e+01  2.000000e+00  2.000000e+00   \n",
       "75%    2.000000e+00  5.300000e+01  9.700000e+01  2.000000e+00  2.000000e+00   \n",
       "max    9.900000e+01  1.210000e+02  9.800000e+01  9.800000e+01  9.800000e+01   \n",
       "\n",
       "       ...       INMSUPR  HIPERTENSION  OTHER_DISEASE  CARDIOVASCULAR  \\\n",
       "count  ...  1.048575e+06  1.048575e+06   1.048575e+06    1.048575e+06   \n",
       "mean   ...  2.298132e+00  2.128989e+00   2.435143e+00    2.261810e+00   \n",
       "std    ...  5.462843e+00  5.236397e+00   6.646676e+00    5.194850e+00   \n",
       "min    ...  1.000000e+00  1.000000e+00   1.000000e+00    1.000000e+00   \n",
       "25%    ...  2.000000e+00  2.000000e+00   2.000000e+00    2.000000e+00   \n",
       "50%    ...  2.000000e+00  2.000000e+00   2.000000e+00    2.000000e+00   \n",
       "75%    ...  2.000000e+00  2.000000e+00   2.000000e+00    2.000000e+00   \n",
       "max    ...  9.800000e+01  9.800000e+01   9.800000e+01    9.800000e+01   \n",
       "\n",
       "            OBESITY  RENAL_CHRONIC       TOBACCO  CLASSIFICATION_FINAL  \\\n",
       "count  1.048575e+06   1.048575e+06  1.048575e+06          1.048575e+06   \n",
       "mean   2.125176e+00   2.257180e+00  2.214333e+00          5.305653e+00   \n",
       "std    5.175445e+00   5.135354e+00  5.323097e+00          1.881165e+00   \n",
       "min    1.000000e+00   1.000000e+00  1.000000e+00          1.000000e+00   \n",
       "25%    2.000000e+00   2.000000e+00  2.000000e+00          3.000000e+00   \n",
       "50%    2.000000e+00   2.000000e+00  2.000000e+00          6.000000e+00   \n",
       "75%    2.000000e+00   2.000000e+00  2.000000e+00          7.000000e+00   \n",
       "max    9.800000e+01   9.800000e+01  9.800000e+01          7.000000e+00   \n",
       "\n",
       "                ICU         DEATH  \n",
       "count  1.048575e+06  1.048575e+06  \n",
       "mean   7.955397e+01  1.926622e+00  \n",
       "std    3.682307e+01  2.607556e-01  \n",
       "min    1.000000e+00  1.000000e+00  \n",
       "25%    9.700000e+01  2.000000e+00  \n",
       "50%    9.700000e+01  2.000000e+00  \n",
       "75%    9.700000e+01  2.000000e+00  \n",
       "max    9.900000e+01  2.000000e+00  \n",
       "\n",
       "[8 rows x 21 columns]"
      ]
     },
     "execution_count": 141,
     "metadata": {},
     "output_type": "execute_result"
    }
   ],
   "source": [
    "covid.describe()"
   ]
  },
  {
   "cell_type": "code",
   "execution_count": 142,
   "metadata": {},
   "outputs": [
    {
     "name": "stdout",
     "output_type": "stream",
     "text": [
      "<class 'pandas.core.frame.DataFrame'>\n",
      "RangeIndex: 1048575 entries, 0 to 1048574\n",
      "Data columns (total 21 columns):\n",
      " #   Column                Non-Null Count    Dtype\n",
      "---  ------                --------------    -----\n",
      " 0   USMER                 1048575 non-null  int64\n",
      " 1   MEDICAL_UNIT          1048575 non-null  int64\n",
      " 2   SEX                   1048575 non-null  int64\n",
      " 3   PATIENT_TYPE          1048575 non-null  int64\n",
      " 4   INTUBED               1048575 non-null  int64\n",
      " 5   PNEUMONIA             1048575 non-null  int64\n",
      " 6   AGE                   1048575 non-null  int64\n",
      " 7   PREGNANT              1048575 non-null  int64\n",
      " 8   DIABETES              1048575 non-null  int64\n",
      " 9   COPD                  1048575 non-null  int64\n",
      " 10  ASTHMA                1048575 non-null  int64\n",
      " 11  INMSUPR               1048575 non-null  int64\n",
      " 12  HIPERTENSION          1048575 non-null  int64\n",
      " 13  OTHER_DISEASE         1048575 non-null  int64\n",
      " 14  CARDIOVASCULAR        1048575 non-null  int64\n",
      " 15  OBESITY               1048575 non-null  int64\n",
      " 16  RENAL_CHRONIC         1048575 non-null  int64\n",
      " 17  TOBACCO               1048575 non-null  int64\n",
      " 18  CLASSIFICATION_FINAL  1048575 non-null  int64\n",
      " 19  ICU                   1048575 non-null  int64\n",
      " 20  DEATH                 1048575 non-null  int64\n",
      "dtypes: int64(21)\n",
      "memory usage: 168.0 MB\n"
     ]
    }
   ],
   "source": [
    "covid.info()"
   ]
  },
  {
   "attachments": {},
   "cell_type": "markdown",
   "metadata": {},
   "source": [
    "## Data Preprocessing\n",
    "Let us have a look at how many values are missing and what to do with those"
   ]
  },
  {
   "cell_type": "code",
   "execution_count": 143,
   "metadata": {},
   "outputs": [
    {
     "data": {
      "text/plain": [
       "USMER                     2\n",
       "MEDICAL_UNIT             13\n",
       "SEX                       2\n",
       "PATIENT_TYPE              2\n",
       "INTUBED                   4\n",
       "PNEUMONIA                 3\n",
       "AGE                     121\n",
       "PREGNANT                  4\n",
       "DIABETES                  3\n",
       "COPD                      3\n",
       "ASTHMA                    3\n",
       "INMSUPR                   3\n",
       "HIPERTENSION              3\n",
       "OTHER_DISEASE             3\n",
       "CARDIOVASCULAR            3\n",
       "OBESITY                   3\n",
       "RENAL_CHRONIC             3\n",
       "TOBACCO                   3\n",
       "CLASSIFICATION_FINAL      7\n",
       "ICU                       4\n",
       "DEATH                     2\n",
       "dtype: int64"
      ]
     },
     "execution_count": 143,
     "metadata": {},
     "output_type": "execute_result"
    }
   ],
   "source": [
    "covid.nunique()"
   ]
  },
  {
   "attachments": {},
   "cell_type": "markdown",
   "metadata": {},
   "source": [
    "We can infer from these that when number of unique values is 2, then we are sure that its either 1(yes) or 2(no).\n",
    "Then if the unique values are 3 ,then apart from yes and no there is one missing value parameter too and same goes for 4.  \n",
    "Lets find out how many missing values are there, and if they are significantly large enough, we will remove them."
   ]
  },
  {
   "cell_type": "code",
   "execution_count": 144,
   "metadata": {},
   "outputs": [
    {
     "data": {
      "text/plain": [
       "97    848544\n",
       "2     159050\n",
       "1      33656\n",
       "99      7325\n",
       "Name: INTUBED, dtype: int64"
      ]
     },
     "execution_count": 144,
     "metadata": {},
     "output_type": "execute_result"
    }
   ],
   "source": [
    "covid['INTUBED'].value_counts()"
   ]
  },
  {
   "attachments": {},
   "cell_type": "markdown",
   "metadata": {},
   "source": [
    "There is so much (like 90%) of the data which is missing and which makes it an unusable parameter, so we'll remove it."
   ]
  },
  {
   "cell_type": "code",
   "execution_count": 145,
   "metadata": {},
   "outputs": [],
   "source": [
    "covid.drop(columns='INTUBED',inplace=True)"
   ]
  },
  {
   "cell_type": "code",
   "execution_count": 146,
   "metadata": {},
   "outputs": [
    {
     "data": {
      "text/plain": [
       "2     892534\n",
       "1     140038\n",
       "99     16003\n",
       "Name: PNEUMONIA, dtype: int64"
      ]
     },
     "execution_count": 146,
     "metadata": {},
     "output_type": "execute_result"
    }
   ],
   "source": [
    "covid['PNEUMONIA'].value_counts()"
   ]
  },
  {
   "cell_type": "code",
   "execution_count": 147,
   "metadata": {},
   "outputs": [
    {
     "data": {
      "text/plain": [
       "97    523511\n",
       "2     513179\n",
       "1       8131\n",
       "98      3754\n",
       "Name: PREGNANT, dtype: int64"
      ]
     },
     "execution_count": 147,
     "metadata": {},
     "output_type": "execute_result"
    }
   ],
   "source": [
    "covid['PREGNANT'].value_counts()"
   ]
  },
  {
   "attachments": {},
   "cell_type": "markdown",
   "metadata": {},
   "source": [
    "Again,we can see like half of the data missing and men cant be pregnate and there is a direct relationship between the SEX and PREGNANT count. So we first try to check the relation.  \n",
    "Before that, lets convert the men count (97) data into non pregnant(2).  "
   ]
  },
  {
   "cell_type": "code",
   "execution_count": 148,
   "metadata": {},
   "outputs": [],
   "source": [
    "covid['PREGNANT']=covid['PREGNANT'].replace(97,2)"
   ]
  },
  {
   "cell_type": "code",
   "execution_count": 149,
   "metadata": {},
   "outputs": [
    {
     "name": "stdout",
     "output_type": "stream",
     "text": [
      "<class 'pandas.core.frame.DataFrame'>\n",
      "RangeIndex: 1048575 entries, 0 to 1048574\n",
      "Data columns (total 20 columns):\n",
      " #   Column                Non-Null Count    Dtype\n",
      "---  ------                --------------    -----\n",
      " 0   USMER                 1048575 non-null  int64\n",
      " 1   MEDICAL_UNIT          1048575 non-null  int64\n",
      " 2   SEX                   1048575 non-null  int64\n",
      " 3   PATIENT_TYPE          1048575 non-null  int64\n",
      " 4   PNEUMONIA             1048575 non-null  int64\n",
      " 5   AGE                   1048575 non-null  int64\n",
      " 6   PREGNANT              1048575 non-null  int64\n",
      " 7   DIABETES              1048575 non-null  int64\n",
      " 8   COPD                  1048575 non-null  int64\n",
      " 9   ASTHMA                1048575 non-null  int64\n",
      " 10  INMSUPR               1048575 non-null  int64\n",
      " 11  HIPERTENSION          1048575 non-null  int64\n",
      " 12  OTHER_DISEASE         1048575 non-null  int64\n",
      " 13  CARDIOVASCULAR        1048575 non-null  int64\n",
      " 14  OBESITY               1048575 non-null  int64\n",
      " 15  RENAL_CHRONIC         1048575 non-null  int64\n",
      " 16  TOBACCO               1048575 non-null  int64\n",
      " 17  CLASSIFICATION_FINAL  1048575 non-null  int64\n",
      " 18  ICU                   1048575 non-null  int64\n",
      " 19  DEATH                 1048575 non-null  int64\n",
      "dtypes: int64(20)\n",
      "memory usage: 160.0 MB\n"
     ]
    }
   ],
   "source": [
    "covid.info()"
   ]
  },
  {
   "cell_type": "code",
   "execution_count": 150,
   "metadata": {},
   "outputs": [
    {
     "data": {
      "image/png": "[encoded data removed]",
      "text/plain": [
       "<Figure size 864x576 with 1 Axes>"
      ]
     },
     "metadata": {
      "needs_background": "light"
     },
     "output_type": "display_data"
    }
   ],
   "source": [
    "plt.figure(figsize=(12,8))\n",
    "ax=sns.countplot(x=\"SEX\",hue=\"PREGNANT\",data=covid)\n",
    "for bars in ax.containers:\n",
    "    ax.bar_label(bars)\n",
    "plt.title(\"PREGNANCIES - SEX\",color=\"red\");\n",
    "plt.show()"
   ]
  },
  {
   "cell_type": "code",
   "execution_count": 151,
   "metadata": {},
   "outputs": [
    {
     "data": {
      "text/plain": [
       "2     892534\n",
       "1     140038\n",
       "99     16003\n",
       "Name: PNEUMONIA, dtype: int64"
      ]
     },
     "execution_count": 151,
     "metadata": {},
     "output_type": "execute_result"
    }
   ],
   "source": [
    "covid['PNEUMONIA'].value_counts()"
   ]
  },
  {
   "cell_type": "code",
   "execution_count": 152,
   "metadata": {},
   "outputs": [
    {
     "data": {
      "text/plain": [
       "30     27010\n",
       "31     25927\n",
       "28     25313\n",
       "29     25134\n",
       "34     24872\n",
       "       ...  \n",
       "114        2\n",
       "116        2\n",
       "111        1\n",
       "121        1\n",
       "113        1\n",
       "Name: AGE, Length: 121, dtype: int64"
      ]
     },
     "execution_count": 152,
     "metadata": {},
     "output_type": "execute_result"
    }
   ],
   "source": [
    "covid['AGE'].value_counts()"
   ]
  },
  {
   "cell_type": "code",
   "execution_count": 153,
   "metadata": {},
   "outputs": [
    {
     "data": {
      "text/plain": [
       "2     920248\n",
       "1     124989\n",
       "98      3338\n",
       "Name: DIABETES, dtype: int64"
      ]
     },
     "execution_count": 153,
     "metadata": {},
     "output_type": "execute_result"
    }
   ],
   "source": [
    "covid['DIABETES'].value_counts()"
   ]
  },
  {
   "cell_type": "code",
   "execution_count": 154,
   "metadata": {},
   "outputs": [
    {
     "data": {
      "text/plain": [
       "2     1030510\n",
       "1       15062\n",
       "98       3003\n",
       "Name: COPD, dtype: int64"
      ]
     },
     "execution_count": 154,
     "metadata": {},
     "output_type": "execute_result"
    }
   ],
   "source": [
    "covid['COPD'].value_counts()"
   ]
  },
  {
   "cell_type": "code",
   "execution_count": 155,
   "metadata": {},
   "outputs": [
    {
     "data": {
      "text/plain": [
       "2     1014024\n",
       "1       31572\n",
       "98       2979\n",
       "Name: ASTHMA, dtype: int64"
      ]
     },
     "execution_count": 155,
     "metadata": {},
     "output_type": "execute_result"
    }
   ],
   "source": [
    "covid['ASTHMA'].value_counts()"
   ]
  },
  {
   "cell_type": "code",
   "execution_count": 156,
   "metadata": {},
   "outputs": [
    {
     "data": {
      "text/plain": [
       "2     1031001\n",
       "1       14170\n",
       "98       3404\n",
       "Name: INMSUPR, dtype: int64"
      ]
     },
     "execution_count": 156,
     "metadata": {},
     "output_type": "execute_result"
    }
   ],
   "source": [
    "covid['INMSUPR'].value_counts()"
   ]
  },
  {
   "cell_type": "code",
   "execution_count": 157,
   "metadata": {},
   "outputs": [
    {
     "data": {
      "text/plain": [
       "2     882742\n",
       "1     162729\n",
       "98      3104\n",
       "Name: HIPERTENSION, dtype: int64"
      ]
     },
     "execution_count": 157,
     "metadata": {},
     "output_type": "execute_result"
    }
   ],
   "source": [
    "covid['HIPERTENSION'].value_counts()"
   ]
  },
  {
   "cell_type": "code",
   "execution_count": 158,
   "metadata": {},
   "outputs": [
    {
     "data": {
      "text/plain": [
       "2     1024730\n",
       "1       20769\n",
       "98       3076\n",
       "Name: CARDIOVASCULAR, dtype: int64"
      ]
     },
     "execution_count": 158,
     "metadata": {},
     "output_type": "execute_result"
    }
   ],
   "source": [
    "covid['CARDIOVASCULAR'].value_counts()"
   ]
  },
  {
   "cell_type": "code",
   "execution_count": 159,
   "metadata": {},
   "outputs": [
    {
     "data": {
      "text/plain": [
       "2     1015490\n",
       "1       28040\n",
       "98       5045\n",
       "Name: OTHER_DISEASE, dtype: int64"
      ]
     },
     "execution_count": 159,
     "metadata": {},
     "output_type": "execute_result"
    }
   ],
   "source": [
    "covid['OTHER_DISEASE'].value_counts()"
   ]
  },
  {
   "cell_type": "code",
   "execution_count": 160,
   "metadata": {},
   "outputs": [
    {
     "data": {
      "text/plain": [
       "2     885727\n",
       "1     159816\n",
       "98      3032\n",
       "Name: OBESITY, dtype: int64"
      ]
     },
     "execution_count": 160,
     "metadata": {},
     "output_type": "execute_result"
    }
   ],
   "source": [
    "covid['OBESITY'].value_counts()"
   ]
  },
  {
   "cell_type": "code",
   "execution_count": 161,
   "metadata": {},
   "outputs": [
    {
     "data": {
      "text/plain": [
       "2     1026665\n",
       "1       18904\n",
       "98       3006\n",
       "Name: RENAL_CHRONIC, dtype: int64"
      ]
     },
     "execution_count": 161,
     "metadata": {},
     "output_type": "execute_result"
    }
   ],
   "source": [
    "covid['RENAL_CHRONIC'].value_counts()"
   ]
  },
  {
   "cell_type": "code",
   "execution_count": 162,
   "metadata": {},
   "outputs": [
    {
     "data": {
      "text/plain": [
       "2     960979\n",
       "1      84376\n",
       "98      3220\n",
       "Name: TOBACCO, dtype: int64"
      ]
     },
     "execution_count": 162,
     "metadata": {},
     "output_type": "execute_result"
    }
   ],
   "source": [
    "covid['TOBACCO'].value_counts()"
   ]
  },
  {
   "cell_type": "code",
   "execution_count": 163,
   "metadata": {},
   "outputs": [
    {
     "data": {
      "text/plain": [
       "7    499250\n",
       "3    381527\n",
       "6    128133\n",
       "5     26091\n",
       "1      8601\n",
       "4      3122\n",
       "2      1851\n",
       "Name: CLASSIFICATION_FINAL, dtype: int64"
      ]
     },
     "execution_count": 163,
     "metadata": {},
     "output_type": "execute_result"
    }
   ],
   "source": [
    "covid['CLASSIFICATION_FINAL'].value_counts()"
   ]
  },
  {
   "cell_type": "code",
   "execution_count": 164,
   "metadata": {},
   "outputs": [
    {
     "data": {
      "text/plain": [
       "97    848544\n",
       "2     175685\n",
       "1      16858\n",
       "99      7488\n",
       "Name: ICU, dtype: int64"
      ]
     },
     "execution_count": 164,
     "metadata": {},
     "output_type": "execute_result"
    }
   ],
   "source": [
    "covid['ICU'].value_counts()"
   ]
  },
  {
   "attachments": {},
   "cell_type": "markdown",
   "metadata": {},
   "source": [
    "Now we can see too many missing data, so we will drop this column."
   ]
  },
  {
   "cell_type": "code",
   "execution_count": 165,
   "metadata": {},
   "outputs": [],
   "source": [
    "covid.drop(columns='ICU',inplace=True)"
   ]
  },
  {
   "cell_type": "code",
   "execution_count": 166,
   "metadata": {},
   "outputs": [
    {
     "name": "stdout",
     "output_type": "stream",
     "text": [
      "<class 'pandas.core.frame.DataFrame'>\n",
      "RangeIndex: 1048575 entries, 0 to 1048574\n",
      "Data columns (total 19 columns):\n",
      " #   Column                Non-Null Count    Dtype\n",
      "---  ------                --------------    -----\n",
      " 0   USMER                 1048575 non-null  int64\n",
      " 1   MEDICAL_UNIT          1048575 non-null  int64\n",
      " 2   SEX                   1048575 non-null  int64\n",
      " 3   PATIENT_TYPE          1048575 non-null  int64\n",
      " 4   PNEUMONIA             1048575 non-null  int64\n",
      " 5   AGE                   1048575 non-null  int64\n",
      " 6   PREGNANT              1048575 non-null  int64\n",
      " 7   DIABETES              1048575 non-null  int64\n",
      " 8   COPD                  1048575 non-null  int64\n",
      " 9   ASTHMA                1048575 non-null  int64\n",
      " 10  INMSUPR               1048575 non-null  int64\n",
      " 11  HIPERTENSION          1048575 non-null  int64\n",
      " 12  OTHER_DISEASE         1048575 non-null  int64\n",
      " 13  CARDIOVASCULAR        1048575 non-null  int64\n",
      " 14  OBESITY               1048575 non-null  int64\n",
      " 15  RENAL_CHRONIC         1048575 non-null  int64\n",
      " 16  TOBACCO               1048575 non-null  int64\n",
      " 17  CLASSIFICATION_FINAL  1048575 non-null  int64\n",
      " 18  DEATH                 1048575 non-null  int64\n",
      "dtypes: int64(19)\n",
      "memory usage: 152.0 MB\n"
     ]
    }
   ],
   "source": [
    "covid.info()"
   ]
  },
  {
   "attachments": {},
   "cell_type": "markdown",
   "metadata": {},
   "source": [
    "## Removing the missing rows\n",
    "We will remove the missing rows which have very less number of missing data compared to the original data"
   ]
  },
  {
   "cell_type": "code",
   "execution_count": 167,
   "metadata": {},
   "outputs": [],
   "source": [
    "covid = covid[(covid.PNEUMONIA == 1) | (covid.PNEUMONIA == 2)]\n",
    "covid = covid[(covid.DIABETES == 1) | (covid.DIABETES == 2)]\n",
    "covid = covid[(covid.COPD == 1) | (covid.COPD == 2)]\n",
    "covid = covid[(covid.ASTHMA == 1) | (covid.ASTHMA == 2)]\n",
    "covid = covid[(covid.INMSUPR == 1) | (covid.INMSUPR == 2)]\n",
    "covid = covid[(covid.HIPERTENSION == 1) | (covid.HIPERTENSION == 2)]\n",
    "covid = covid[(covid.OTHER_DISEASE == 1) | (covid.OTHER_DISEASE == 2)]\n",
    "covid = covid[(covid.CARDIOVASCULAR == 1) | (covid.CARDIOVASCULAR == 2)]\n",
    "covid = covid[(covid.OBESITY == 1) | (covid.OBESITY == 2)]\n",
    "covid = covid[(covid.RENAL_CHRONIC == 1) | (covid.RENAL_CHRONIC == 2)]\n",
    "covid = covid[(covid.TOBACCO == 1) | (covid.TOBACCO == 2)]"
   ]
  },
  {
   "cell_type": "code",
   "execution_count": 168,
   "metadata": {},
   "outputs": [
    {
     "name": "stdout",
     "output_type": "stream",
     "text": [
      "<class 'pandas.core.frame.DataFrame'>\n",
      "Int64Index: 1025152 entries, 0 to 1048574\n",
      "Data columns (total 19 columns):\n",
      " #   Column                Non-Null Count    Dtype\n",
      "---  ------                --------------    -----\n",
      " 0   USMER                 1025152 non-null  int64\n",
      " 1   MEDICAL_UNIT          1025152 non-null  int64\n",
      " 2   SEX                   1025152 non-null  int64\n",
      " 3   PATIENT_TYPE          1025152 non-null  int64\n",
      " 4   PNEUMONIA             1025152 non-null  int64\n",
      " 5   AGE                   1025152 non-null  int64\n",
      " 6   PREGNANT              1025152 non-null  int64\n",
      " 7   DIABETES              1025152 non-null  int64\n",
      " 8   COPD                  1025152 non-null  int64\n",
      " 9   ASTHMA                1025152 non-null  int64\n",
      " 10  INMSUPR               1025152 non-null  int64\n",
      " 11  HIPERTENSION          1025152 non-null  int64\n",
      " 12  OTHER_DISEASE         1025152 non-null  int64\n",
      " 13  CARDIOVASCULAR        1025152 non-null  int64\n",
      " 14  OBESITY               1025152 non-null  int64\n",
      " 15  RENAL_CHRONIC         1025152 non-null  int64\n",
      " 16  TOBACCO               1025152 non-null  int64\n",
      " 17  CLASSIFICATION_FINAL  1025152 non-null  int64\n",
      " 18  DEATH                 1025152 non-null  int64\n",
      "dtypes: int64(19)\n",
      "memory usage: 156.4 MB\n"
     ]
    }
   ],
   "source": [
    "covid.info()"
   ]
  },
  {
   "attachments": {},
   "cell_type": "markdown",
   "metadata": {},
   "source": [
    "## Visualizing the data\n",
    "Now we will derive some relations between death and other factors"
   ]
  },
  {
   "cell_type": "code",
   "execution_count": 169,
   "metadata": {},
   "outputs": [
    {
     "data": {
      "text/plain": [
       "DEATH                   1.000000\n",
       "PNEUMONIA               0.470800\n",
       "DIABETES                0.217115\n",
       "HIPERTENSION            0.205158\n",
       "CLASSIFICATION_FINAL    0.197313\n",
       "MEDICAL_UNIT            0.154588\n",
       "RENAL_CHRONIC           0.119396\n",
       "USMER                   0.118973\n",
       "COPD                    0.089846\n",
       "CARDIOVASCULAR          0.076582\n",
       "OTHER_DISEASE           0.057247\n",
       "OBESITY                 0.056427\n",
       "INMSUPR                 0.049308\n",
       "PREGNANT                0.011433\n",
       "TOBACCO                 0.005245\n",
       "ASTHMA                 -0.017221\n",
       "SEX                    -0.080882\n",
       "AGE                    -0.322412\n",
       "PATIENT_TYPE           -0.520023\n",
       "Name: DEATH, dtype: float64"
      ]
     },
     "execution_count": 169,
     "metadata": {},
     "output_type": "execute_result"
    }
   ],
   "source": [
    "covid.corr()['DEATH'].sort_values(ascending=False)"
   ]
  },
  {
   "cell_type": "code",
   "execution_count": 170,
   "metadata": {},
   "outputs": [
    {
     "data": {
      "image/png": "[encoded data removed]",
      "text/plain": [
       "<Figure size 720x576 with 1 Axes>"
      ]
     },
     "metadata": {
      "needs_background": "light"
     },
     "output_type": "display_data"
    }
   ],
   "source": [
    "plt.figure(figsize=(10,8))\n",
    "sns.histplot(x=covid['AGE'])\n",
    "plt.savefig('age.png')"
   ]
  },
  {
   "cell_type": "code",
   "execution_count": 171,
   "metadata": {},
   "outputs": [
    {
     "data": {
      "text/plain": [
       "<AxesSubplot:>"
      ]
     },
     "execution_count": 171,
     "metadata": {},
     "output_type": "execute_result"
    },
    {
     "data": {
      "image/png": "[encoded data removed]",
      "text/plain": [
       "<Figure size 1440x1080 with 2 Axes>"
      ]
     },
     "metadata": {
      "needs_background": "light"
     },
     "output_type": "display_data"
    }
   ],
   "source": [
    "plt.figure(figsize=(20,15))\n",
    "sns.heatmap(covid.corr(),annot=True)"
   ]
  },
  {
   "attachments": {},
   "cell_type": "markdown",
   "metadata": {},
   "source": [
    "Observations:\n",
    "1. The highly correlated factors with death are the ones with which are shaded with dark colour(correlation factor less than -0.2) or the ones shaded with light colours(correlation factor greater than 0.2).\n",
    "2. We will keep only these shades as they matter the most with death and drop the remaining columns."
   ]
  },
  {
   "cell_type": "code",
   "execution_count": 172,
   "metadata": {},
   "outputs": [],
   "source": [
    "unrelevant_columns = [\"SEX\",\"PREGNANT\",\"COPD\",\"ASTHMA\",\"INMSUPR\",\"OTHER_DISEASE\",\"CARDIOVASCULAR\",\n",
    "                      \"OBESITY\",\"TOBACCO\"]\n",
    "\n",
    "covid.drop(columns=unrelevant_columns,inplace=True)"
   ]
  },
  {
   "cell_type": "code",
   "execution_count": 173,
   "metadata": {},
   "outputs": [
    {
     "data": {
      "text/html": [
       "<div>\n",
       "<style scoped>\n",
       "    .dataframe tbody tr th:only-of-type {\n",
       "        vertical-align: middle;\n",
       "    }\n",
       "\n",
       "    .dataframe tbody tr th {\n",
       "        vertical-align: top;\n",
       "    }\n",
       "\n",
       "    .dataframe thead th {\n",
       "        text-align: right;\n",
       "    }\n",
       "</style>\n",
       "<table border=\"1\" class=\"dataframe\">\n",
       "  <thead>\n",
       "    <tr style=\"text-align: right;\">\n",
       "      <th></th>\n",
       "      <th>USMER</th>\n",
       "      <th>MEDICAL_UNIT</th>\n",
       "      <th>PATIENT_TYPE</th>\n",
       "      <th>PNEUMONIA</th>\n",
       "      <th>AGE</th>\n",
       "      <th>DIABETES</th>\n",
       "      <th>HIPERTENSION</th>\n",
       "      <th>RENAL_CHRONIC</th>\n",
       "      <th>CLASSIFICATION_FINAL</th>\n",
       "      <th>DEATH</th>\n",
       "    </tr>\n",
       "  </thead>\n",
       "  <tbody>\n",
       "    <tr>\n",
       "      <th>count</th>\n",
       "      <td>1.025152e+06</td>\n",
       "      <td>1.025152e+06</td>\n",
       "      <td>1.025152e+06</td>\n",
       "      <td>1.025152e+06</td>\n",
       "      <td>1.025152e+06</td>\n",
       "      <td>1.025152e+06</td>\n",
       "      <td>1.025152e+06</td>\n",
       "      <td>1.025152e+06</td>\n",
       "      <td>1.025152e+06</td>\n",
       "      <td>1.025152e+06</td>\n",
       "    </tr>\n",
       "    <tr>\n",
       "      <th>mean</th>\n",
       "      <td>1.642105e+00</td>\n",
       "      <td>8.993643e+00</td>\n",
       "      <td>1.187191e+00</td>\n",
       "      <td>1.865777e+00</td>\n",
       "      <td>4.188778e+01</td>\n",
       "      <td>1.880588e+00</td>\n",
       "      <td>1.844338e+00</td>\n",
       "      <td>1.982099e+00</td>\n",
       "      <td>5.291136e+00</td>\n",
       "      <td>1.927119e+00</td>\n",
       "    </tr>\n",
       "    <tr>\n",
       "      <th>std</th>\n",
       "      <td>4.793813e-01</td>\n",
       "      <td>3.722439e+00</td>\n",
       "      <td>3.900648e-01</td>\n",
       "      <td>3.408919e-01</td>\n",
       "      <td>1.674833e+01</td>\n",
       "      <td>3.242723e-01</td>\n",
       "      <td>3.625346e-01</td>\n",
       "      <td>1.325909e-01</td>\n",
       "      <td>1.889586e+00</td>\n",
       "      <td>2.599410e-01</td>\n",
       "    </tr>\n",
       "    <tr>\n",
       "      <th>min</th>\n",
       "      <td>1.000000e+00</td>\n",
       "      <td>1.000000e+00</td>\n",
       "      <td>1.000000e+00</td>\n",
       "      <td>1.000000e+00</td>\n",
       "      <td>0.000000e+00</td>\n",
       "      <td>1.000000e+00</td>\n",
       "      <td>1.000000e+00</td>\n",
       "      <td>1.000000e+00</td>\n",
       "      <td>1.000000e+00</td>\n",
       "      <td>1.000000e+00</td>\n",
       "    </tr>\n",
       "    <tr>\n",
       "      <th>25%</th>\n",
       "      <td>1.000000e+00</td>\n",
       "      <td>4.000000e+00</td>\n",
       "      <td>1.000000e+00</td>\n",
       "      <td>2.000000e+00</td>\n",
       "      <td>3.000000e+01</td>\n",
       "      <td>2.000000e+00</td>\n",
       "      <td>2.000000e+00</td>\n",
       "      <td>2.000000e+00</td>\n",
       "      <td>3.000000e+00</td>\n",
       "      <td>2.000000e+00</td>\n",
       "    </tr>\n",
       "    <tr>\n",
       "      <th>50%</th>\n",
       "      <td>2.000000e+00</td>\n",
       "      <td>1.200000e+01</td>\n",
       "      <td>1.000000e+00</td>\n",
       "      <td>2.000000e+00</td>\n",
       "      <td>4.000000e+01</td>\n",
       "      <td>2.000000e+00</td>\n",
       "      <td>2.000000e+00</td>\n",
       "      <td>2.000000e+00</td>\n",
       "      <td>6.000000e+00</td>\n",
       "      <td>2.000000e+00</td>\n",
       "    </tr>\n",
       "    <tr>\n",
       "      <th>75%</th>\n",
       "      <td>2.000000e+00</td>\n",
       "      <td>1.200000e+01</td>\n",
       "      <td>1.000000e+00</td>\n",
       "      <td>2.000000e+00</td>\n",
       "      <td>5.300000e+01</td>\n",
       "      <td>2.000000e+00</td>\n",
       "      <td>2.000000e+00</td>\n",
       "      <td>2.000000e+00</td>\n",
       "      <td>7.000000e+00</td>\n",
       "      <td>2.000000e+00</td>\n",
       "    </tr>\n",
       "    <tr>\n",
       "      <th>max</th>\n",
       "      <td>2.000000e+00</td>\n",
       "      <td>1.300000e+01</td>\n",
       "      <td>2.000000e+00</td>\n",
       "      <td>2.000000e+00</td>\n",
       "      <td>1.210000e+02</td>\n",
       "      <td>2.000000e+00</td>\n",
       "      <td>2.000000e+00</td>\n",
       "      <td>2.000000e+00</td>\n",
       "      <td>7.000000e+00</td>\n",
       "      <td>2.000000e+00</td>\n",
       "    </tr>\n",
       "  </tbody>\n",
       "</table>\n",
       "</div>"
      ],
      "text/plain": [
       "              USMER  MEDICAL_UNIT  PATIENT_TYPE     PNEUMONIA           AGE  \\\n",
       "count  1.025152e+06  1.025152e+06  1.025152e+06  1.025152e+06  1.025152e+06   \n",
       "mean   1.642105e+00  8.993643e+00  1.187191e+00  1.865777e+00  4.188778e+01   \n",
       "std    4.793813e-01  3.722439e+00  3.900648e-01  3.408919e-01  1.674833e+01   \n",
       "min    1.000000e+00  1.000000e+00  1.000000e+00  1.000000e+00  0.000000e+00   \n",
       "25%    1.000000e+00  4.000000e+00  1.000000e+00  2.000000e+00  3.000000e+01   \n",
       "50%    2.000000e+00  1.200000e+01  1.000000e+00  2.000000e+00  4.000000e+01   \n",
       "75%    2.000000e+00  1.200000e+01  1.000000e+00  2.000000e+00  5.300000e+01   \n",
       "max    2.000000e+00  1.300000e+01  2.000000e+00  2.000000e+00  1.210000e+02   \n",
       "\n",
       "           DIABETES  HIPERTENSION  RENAL_CHRONIC  CLASSIFICATION_FINAL  \\\n",
       "count  1.025152e+06  1.025152e+06   1.025152e+06          1.025152e+06   \n",
       "mean   1.880588e+00  1.844338e+00   1.982099e+00          5.291136e+00   \n",
       "std    3.242723e-01  3.625346e-01   1.325909e-01          1.889586e+00   \n",
       "min    1.000000e+00  1.000000e+00   1.000000e+00          1.000000e+00   \n",
       "25%    2.000000e+00  2.000000e+00   2.000000e+00          3.000000e+00   \n",
       "50%    2.000000e+00  2.000000e+00   2.000000e+00          6.000000e+00   \n",
       "75%    2.000000e+00  2.000000e+00   2.000000e+00          7.000000e+00   \n",
       "max    2.000000e+00  2.000000e+00   2.000000e+00          7.000000e+00   \n",
       "\n",
       "              DEATH  \n",
       "count  1.025152e+06  \n",
       "mean   1.927119e+00  \n",
       "std    2.599410e-01  \n",
       "min    1.000000e+00  \n",
       "25%    2.000000e+00  \n",
       "50%    2.000000e+00  \n",
       "75%    2.000000e+00  \n",
       "max    2.000000e+00  "
      ]
     },
     "execution_count": 173,
     "metadata": {},
     "output_type": "execute_result"
    }
   ],
   "source": [
    "covid.describe()"
   ]
  },
  {
   "cell_type": "code",
   "execution_count": 174,
   "metadata": {},
   "outputs": [],
   "source": [
    "covid = pd.get_dummies(covid,columns=[\"MEDICAL_UNIT\",\"CLASSIFICATION_FINAL\"],drop_first=True)"
   ]
  },
  {
   "cell_type": "code",
   "execution_count": 175,
   "metadata": {},
   "outputs": [],
   "source": [
    "# scaler = RobustScaler()\n",
    "# covid.AGE = scaler.fit_transform(covid.AGE.values.reshape(-1,1))"
   ]
  },
  {
   "cell_type": "code",
   "execution_count": 176,
   "metadata": {},
   "outputs": [
    {
     "name": "stdout",
     "output_type": "stream",
     "text": [
      "<class 'pandas.core.frame.DataFrame'>\n",
      "Int64Index: 1025152 entries, 0 to 1048574\n",
      "Data columns (total 26 columns):\n",
      " #   Column                  Non-Null Count    Dtype\n",
      "---  ------                  --------------    -----\n",
      " 0   USMER                   1025152 non-null  int64\n",
      " 1   PATIENT_TYPE            1025152 non-null  int64\n",
      " 2   PNEUMONIA               1025152 non-null  int64\n",
      " 3   AGE                     1025152 non-null  int64\n",
      " 4   DIABETES                1025152 non-null  int64\n",
      " 5   HIPERTENSION            1025152 non-null  int64\n",
      " 6   RENAL_CHRONIC           1025152 non-null  int64\n",
      " 7   DEATH                   1025152 non-null  int64\n",
      " 8   MEDICAL_UNIT_2          1025152 non-null  uint8\n",
      " 9   MEDICAL_UNIT_3          1025152 non-null  uint8\n",
      " 10  MEDICAL_UNIT_4          1025152 non-null  uint8\n",
      " 11  MEDICAL_UNIT_5          1025152 non-null  uint8\n",
      " 12  MEDICAL_UNIT_6          1025152 non-null  uint8\n",
      " 13  MEDICAL_UNIT_7          1025152 non-null  uint8\n",
      " 14  MEDICAL_UNIT_8          1025152 non-null  uint8\n",
      " 15  MEDICAL_UNIT_9          1025152 non-null  uint8\n",
      " 16  MEDICAL_UNIT_10         1025152 non-null  uint8\n",
      " 17  MEDICAL_UNIT_11         1025152 non-null  uint8\n",
      " 18  MEDICAL_UNIT_12         1025152 non-null  uint8\n",
      " 19  MEDICAL_UNIT_13         1025152 non-null  uint8\n",
      " 20  CLASSIFICATION_FINAL_2  1025152 non-null  uint8\n",
      " 21  CLASSIFICATION_FINAL_3  1025152 non-null  uint8\n",
      " 22  CLASSIFICATION_FINAL_4  1025152 non-null  uint8\n",
      " 23  CLASSIFICATION_FINAL_5  1025152 non-null  uint8\n",
      " 24  CLASSIFICATION_FINAL_6  1025152 non-null  uint8\n",
      " 25  CLASSIFICATION_FINAL_7  1025152 non-null  uint8\n",
      "dtypes: int64(8), uint8(18)\n",
      "memory usage: 88.0 MB\n"
     ]
    }
   ],
   "source": [
    "covid.info()"
   ]
  },
  {
   "cell_type": "code",
   "execution_count": 177,
   "metadata": {},
   "outputs": [
    {
     "data": {
      "text/plain": [
       "1    833253\n",
       "2    191899\n",
       "Name: PATIENT_TYPE, dtype: int64"
      ]
     },
     "execution_count": 177,
     "metadata": {},
     "output_type": "execute_result"
    }
   ],
   "source": [
    "covid[\"PATIENT_TYPE\"].value_counts()"
   ]
  },
  {
   "cell_type": "code",
   "execution_count": 178,
   "metadata": {},
   "outputs": [
    {
     "data": {
      "text/plain": [
       "DEATH                     1.000000\n",
       "PNEUMONIA                 0.470800\n",
       "DIABETES                  0.217115\n",
       "HIPERTENSION              0.205158\n",
       "CLASSIFICATION_FINAL_7    0.172424\n",
       "MEDICAL_UNIT_12           0.150388\n",
       "RENAL_CHRONIC             0.119396\n",
       "USMER                     0.118973\n",
       "MEDICAL_UNIT_9            0.027839\n",
       "CLASSIFICATION_FINAL_5    0.017371\n",
       "CLASSIFICATION_FINAL_6    0.014901\n",
       "CLASSIFICATION_FINAL_4    0.005627\n",
       "MEDICAL_UNIT_7            0.003410\n",
       "MEDICAL_UNIT_2            0.002287\n",
       "MEDICAL_UNIT_11          -0.000004\n",
       "MEDICAL_UNIT_13          -0.000100\n",
       "MEDICAL_UNIT_3           -0.002724\n",
       "MEDICAL_UNIT_5           -0.003462\n",
       "MEDICAL_UNIT_8           -0.016079\n",
       "MEDICAL_UNIT_10          -0.034569\n",
       "MEDICAL_UNIT_6           -0.055971\n",
       "MEDICAL_UNIT_4           -0.139503\n",
       "CLASSIFICATION_FINAL_2   -0.149625\n",
       "CLASSIFICATION_FINAL_3   -0.179366\n",
       "AGE                      -0.322412\n",
       "PATIENT_TYPE             -0.520023\n",
       "Name: DEATH, dtype: float64"
      ]
     },
     "execution_count": 178,
     "metadata": {},
     "output_type": "execute_result"
    }
   ],
   "source": [
    "covid.corr()['DEATH'].sort_values(ascending=False)"
   ]
  },
  {
   "cell_type": "code",
   "execution_count": 179,
   "metadata": {},
   "outputs": [
    {
     "data": {
      "text/plain": [
       "USMER                       2\n",
       "PATIENT_TYPE                2\n",
       "PNEUMONIA                   2\n",
       "AGE                       121\n",
       "DIABETES                    2\n",
       "HIPERTENSION                2\n",
       "RENAL_CHRONIC               2\n",
       "DEATH                       2\n",
       "MEDICAL_UNIT_2              2\n",
       "MEDICAL_UNIT_3              2\n",
       "MEDICAL_UNIT_4              2\n",
       "MEDICAL_UNIT_5              2\n",
       "MEDICAL_UNIT_6              2\n",
       "MEDICAL_UNIT_7              2\n",
       "MEDICAL_UNIT_8              2\n",
       "MEDICAL_UNIT_9              2\n",
       "MEDICAL_UNIT_10             2\n",
       "MEDICAL_UNIT_11             2\n",
       "MEDICAL_UNIT_12             2\n",
       "MEDICAL_UNIT_13             2\n",
       "CLASSIFICATION_FINAL_2      2\n",
       "CLASSIFICATION_FINAL_3      2\n",
       "CLASSIFICATION_FINAL_4      2\n",
       "CLASSIFICATION_FINAL_5      2\n",
       "CLASSIFICATION_FINAL_6      2\n",
       "CLASSIFICATION_FINAL_7      2\n",
       "dtype: int64"
      ]
     },
     "execution_count": 179,
     "metadata": {},
     "output_type": "execute_result"
    }
   ],
   "source": [
    "covid.nunique()"
   ]
  },
  {
   "cell_type": "code",
   "execution_count": 180,
   "metadata": {},
   "outputs": [],
   "source": [
    "temp=covid\n",
    "a = temp.drop(columns=\"PATIENT_TYPE\")\n",
    "b = temp[\"PATIENT_TYPE\"]\n",
    "from imblearn.under_sampling import RandomUnderSampler\n",
    "rus = RandomUnderSampler(random_state=0)\n",
    "a,b = rus.fit_resample(a,b)\n",
    "covid[\"PATIENT_TYPE\"]=b"
   ]
  },
  {
   "cell_type": "code",
   "execution_count": 181,
   "metadata": {},
   "outputs": [
    {
     "data": {
      "text/plain": [
       "1.0    186766\n",
       "2.0    186349\n",
       "Name: PATIENT_TYPE, dtype: int64"
      ]
     },
     "execution_count": 181,
     "metadata": {},
     "output_type": "execute_result"
    }
   ],
   "source": [
    "covid[\"PATIENT_TYPE\"].value_counts()"
   ]
  },
  {
   "cell_type": "code",
   "execution_count": 182,
   "metadata": {},
   "outputs": [],
   "source": [
    "covid[\"PATIENT_TYPE\"]=covid[\"PATIENT_TYPE\"].fillna(0).astype(np.int64)"
   ]
  },
  {
   "cell_type": "code",
   "execution_count": 183,
   "metadata": {},
   "outputs": [
    {
     "data": {
      "text/plain": [
       "0    652037\n",
       "1    186766\n",
       "2    186349\n",
       "Name: PATIENT_TYPE, dtype: int64"
      ]
     },
     "execution_count": 183,
     "metadata": {},
     "output_type": "execute_result"
    }
   ],
   "source": [
    "covid[\"PATIENT_TYPE\"].value_counts()"
   ]
  },
  {
   "cell_type": "code",
   "execution_count": 184,
   "metadata": {},
   "outputs": [],
   "source": [
    "covid = covid[(covid.PATIENT_TYPE == 1) | (covid.PATIENT_TYPE== 2)]"
   ]
  },
  {
   "cell_type": "code",
   "execution_count": 185,
   "metadata": {},
   "outputs": [
    {
     "data": {
      "text/plain": [
       "DEATH                     1.000000\n",
       "PNEUMONIA                 0.446630\n",
       "PATIENT_TYPE              0.267344\n",
       "DIABETES                  0.242937\n",
       "HIPERTENSION              0.239950\n",
       "CLASSIFICATION_FINAL_7    0.165679\n",
       "RENAL_CHRONIC             0.134944\n",
       "USMER                     0.085138\n",
       "CLASSIFICATION_FINAL_6    0.067848\n",
       "MEDICAL_UNIT_3            0.035023\n",
       "MEDICAL_UNIT_5            0.018881\n",
       "CLASSIFICATION_FINAL_5    0.016693\n",
       "MEDICAL_UNIT_7            0.012516\n",
       "MEDICAL_UNIT_2            0.006409\n",
       "MEDICAL_UNIT_4            0.006290\n",
       "CLASSIFICATION_FINAL_4   -0.003697\n",
       "MEDICAL_UNIT_6           -0.017901\n",
       "MEDICAL_UNIT_8           -0.144212\n",
       "CLASSIFICATION_FINAL_2   -0.155444\n",
       "CLASSIFICATION_FINAL_3   -0.199272\n",
       "AGE                      -0.419433\n",
       "MEDICAL_UNIT_9                 NaN\n",
       "MEDICAL_UNIT_10                NaN\n",
       "MEDICAL_UNIT_11                NaN\n",
       "MEDICAL_UNIT_12                NaN\n",
       "MEDICAL_UNIT_13                NaN\n",
       "Name: DEATH, dtype: float64"
      ]
     },
     "execution_count": 185,
     "metadata": {},
     "output_type": "execute_result"
    }
   ],
   "source": [
    "covid.corr()['DEATH'].sort_values(ascending=False)"
   ]
  },
  {
   "attachments": {},
   "cell_type": "markdown",
   "metadata": {},
   "source": [
    "## Splitting the data into test and training data"
   ]
  },
  {
   "cell_type": "code",
   "execution_count": 186,
   "metadata": {},
   "outputs": [],
   "source": [
    "x = covid.drop(columns=\"DEATH\")\n",
    "y = covid[\"DEATH\"]"
   ]
  },
  {
   "cell_type": "code",
   "execution_count": 187,
   "metadata": {},
   "outputs": [],
   "source": [
    "from imblearn.under_sampling import RandomUnderSampler\n",
    "rus = RandomUnderSampler(random_state=0)\n",
    "x,y = rus.fit_resample(x,y)"
   ]
  },
  {
   "cell_type": "code",
   "execution_count": 188,
   "metadata": {},
   "outputs": [
    {
     "name": "stdout",
     "output_type": "stream",
     "text": [
      "Train_x : (77188, 25)\n",
      "Test_x : (19298, 25)\n",
      "Train_y : (77188,)\n",
      "Test_y : (19298,)\n"
     ]
    }
   ],
   "source": [
    "from sklearn.model_selection import train_test_split\n",
    "train_x, test_x, train_y, test_y = train_test_split(x,y, test_size=0.2, random_state=42)\n",
    "print(\"Train_x :\",train_x.shape)\n",
    "print(\"Test_x :\",test_x.shape)\n",
    "print(\"Train_y :\",train_y.shape)\n",
    "print(\"Test_y :\",test_y.shape)"
   ]
  },
  {
   "cell_type": "code",
   "execution_count": 189,
   "metadata": {},
   "outputs": [
    {
     "name": "stdout",
     "output_type": "stream",
     "text": [
      "       USMER  PATIENT_TYPE  PNEUMONIA  AGE  DIABETES  HIPERTENSION  \\\n",
      "14562      1             1          2   71         2             1   \n",
      "72248      1             1          2   38         2             2   \n",
      "30338      2             1          2   77         1             1   \n",
      "67646      1             2          1   26         2             2   \n",
      "66223      1             1          2   32         2             2   \n",
      "...      ...           ...        ...  ...       ...           ...   \n",
      "39546      1             1          1   50         1             2   \n",
      "64880      2             1          2   46         2             2   \n",
      "42813      1             2          1   63         2             1   \n",
      "43681      2             2          1   59         2             1   \n",
      "58850      1             2          2   46         2             2   \n",
      "\n",
      "       RENAL_CHRONIC  MEDICAL_UNIT_2  MEDICAL_UNIT_3  MEDICAL_UNIT_4  ...  \\\n",
      "14562              2               0               0               1  ...   \n",
      "72248              2               0               0               1  ...   \n",
      "30338              2               0               0               1  ...   \n",
      "67646              2               0               0               1  ...   \n",
      "66223              2               0               0               1  ...   \n",
      "...              ...             ...             ...             ...  ...   \n",
      "39546              2               0               0               1  ...   \n",
      "64880              2               0               0               1  ...   \n",
      "42813              2               0               0               0  ...   \n",
      "43681              2               0               0               0  ...   \n",
      "58850              2               0               0               1  ...   \n",
      "\n",
      "       MEDICAL_UNIT_10  MEDICAL_UNIT_11  MEDICAL_UNIT_12  MEDICAL_UNIT_13  \\\n",
      "14562                0                0                0                0   \n",
      "72248                0                0                0                0   \n",
      "30338                0                0                0                0   \n",
      "67646                0                0                0                0   \n",
      "66223                0                0                0                0   \n",
      "...                ...              ...              ...              ...   \n",
      "39546                0                0                0                0   \n",
      "64880                0                0                0                0   \n",
      "42813                0                0                0                0   \n",
      "43681                0                0                0                0   \n",
      "58850                0                0                0                0   \n",
      "\n",
      "       CLASSIFICATION_FINAL_2  CLASSIFICATION_FINAL_3  CLASSIFICATION_FINAL_4  \\\n",
      "14562                       0                       0                       0   \n",
      "72248                       0                       1                       0   \n",
      "30338                       0                       0                       0   \n",
      "67646                       0                       0                       0   \n",
      "66223                       0                       1                       0   \n",
      "...                       ...                     ...                     ...   \n",
      "39546                       0                       1                       0   \n",
      "64880                       0                       0                       0   \n",
      "42813                       0                       1                       0   \n",
      "43681                       0                       1                       0   \n",
      "58850                       0                       0                       0   \n",
      "\n",
      "       CLASSIFICATION_FINAL_5  CLASSIFICATION_FINAL_6  CLASSIFICATION_FINAL_7  \n",
      "14562                       0                       0                       1  \n",
      "72248                       0                       0                       0  \n",
      "30338                       0                       0                       1  \n",
      "67646                       0                       0                       1  \n",
      "66223                       0                       0                       0  \n",
      "...                       ...                     ...                     ...  \n",
      "39546                       0                       0                       0  \n",
      "64880                       0                       1                       0  \n",
      "42813                       0                       0                       0  \n",
      "43681                       0                       0                       0  \n",
      "58850                       0                       0                       1  \n",
      "\n",
      "[19298 rows x 25 columns]\n"
     ]
    }
   ],
   "source": [
    "print(test_x)"
   ]
  },
  {
   "cell_type": "code",
   "execution_count": 190,
   "metadata": {},
   "outputs": [
    {
     "name": "stdout",
     "output_type": "stream",
     "text": [
      "USMER                      2\n",
      "PATIENT_TYPE               1\n",
      "PNEUMONIA                  1\n",
      "AGE                       65\n",
      "DIABETES                   2\n",
      "HIPERTENSION               1\n",
      "RENAL_CHRONIC              2\n",
      "DEATH                      1\n",
      "MEDICAL_UNIT_2             0\n",
      "MEDICAL_UNIT_3             0\n",
      "MEDICAL_UNIT_4             0\n",
      "MEDICAL_UNIT_5             0\n",
      "MEDICAL_UNIT_6             0\n",
      "MEDICAL_UNIT_7             0\n",
      "MEDICAL_UNIT_8             0\n",
      "MEDICAL_UNIT_9             0\n",
      "MEDICAL_UNIT_10            0\n",
      "MEDICAL_UNIT_11            0\n",
      "MEDICAL_UNIT_12            0\n",
      "MEDICAL_UNIT_13            0\n",
      "CLASSIFICATION_FINAL_2     0\n",
      "CLASSIFICATION_FINAL_3     1\n",
      "CLASSIFICATION_FINAL_4     0\n",
      "CLASSIFICATION_FINAL_5     0\n",
      "CLASSIFICATION_FINAL_6     0\n",
      "CLASSIFICATION_FINAL_7     0\n",
      "Name: 0, dtype: int64\n"
     ]
    }
   ],
   "source": [
    "print(covid.iloc[0])"
   ]
  },
  {
   "cell_type": "code",
   "execution_count": 191,
   "metadata": {},
   "outputs": [
    {
     "data": {
      "text/plain": [
       "0    371781\n",
       "1      1334\n",
       "Name: CLASSIFICATION_FINAL_2, dtype: int64"
      ]
     },
     "execution_count": 191,
     "metadata": {},
     "output_type": "execute_result"
    }
   ],
   "source": [
    "covid['CLASSIFICATION_FINAL_2'].value_counts()"
   ]
  },
  {
   "attachments": {},
   "cell_type": "markdown",
   "metadata": {},
   "source": [
    "## Training the data using various algorithms"
   ]
  },
  {
   "attachments": {},
   "cell_type": "markdown",
   "metadata": {},
   "source": [
    "### Logistic Regression"
   ]
  },
  {
   "cell_type": "code",
   "execution_count": 192,
   "metadata": {},
   "outputs": [
    {
     "name": "stdout",
     "output_type": "stream",
     "text": [
      "Accuracy of Logistic Regression model is: 0.880091201160742\n",
      "Precision:  0.8725500050256307\n",
      "Logistic Regression F1 Score : [0.8823948  0.87769556]\n"
     ]
    }
   ],
   "source": [
    "logreg = LogisticRegression()\n",
    "logreg.fit(train_x,train_y)\n",
    "y_pred_logreg=logreg.predict(test_x)\n",
    "acc_logreg=metrics.accuracy_score(test_y,y_pred_logreg)\n",
    "print(\"Accuracy of Logistic Regression model is:\",acc_logreg)\n",
    "print(\"Precision: \",metrics.precision_score(test_y,y_pred_logreg))\n",
    "print(\"Logistic Regression F1 Score :\",metrics.f1_score(test_y,logreg.predict(test_x),average=None))"
   ]
  },
  {
   "attachments": {},
   "cell_type": "markdown",
   "metadata": {},
   "source": [
    "### Random Forest"
   ]
  },
  {
   "cell_type": "code",
   "execution_count": 193,
   "metadata": {},
   "outputs": [
    {
     "name": "stdout",
     "output_type": "stream",
     "text": [
      "Accuracy of Random Forest model is: 0.8840294331018759\n",
      "Precision:  0.8704125037095657\n"
     ]
    }
   ],
   "source": [
    "rf=RandomForestClassifier()\n",
    "rf.fit(train_x,train_y)\n",
    "y_pred_rf=rf.predict(test_x)\n",
    "acc_rf=metrics.accuracy_score(test_y,y_pred_rf)\n",
    "print(\"Accuracy of Random Forest model is:\",acc_rf)\n",
    "print(\"Precision: \",metrics.precision_score(test_y,y_pred_rf))"
   ]
  },
  {
   "cell_type": "code",
   "execution_count": 194,
   "metadata": {},
   "outputs": [
    {
     "name": "stdout",
     "output_type": "stream",
     "text": [
      "Random F1 Score : [0.88717483 0.88070362]\n"
     ]
    }
   ],
   "source": [
    "print(\"Random F1 Score :\",metrics.f1_score(test_y,rf.predict(test_x),average=None))"
   ]
  },
  {
   "attachments": {},
   "cell_type": "markdown",
   "metadata": {},
   "source": [
    "### Gradient Boosting "
   ]
  },
  {
   "cell_type": "code",
   "execution_count": 195,
   "metadata": {},
   "outputs": [
    {
     "name": "stdout",
     "output_type": "stream",
     "text": [
      "Accuracy of Gradient Boosting model is: 0.891802259301482\n",
      "Precision:  0.8717274939172749\n"
     ]
    }
   ],
   "source": [
    "gb=GradientBoostingClassifier()\n",
    "gb.fit(train_x,train_y)\n",
    "y_pred_gb=gb.predict(test_x)\n",
    "acc_gb=metrics.accuracy_score(test_y,y_pred_gb)\n",
    "print(\"Accuracy of Gradient Boosting model is:\",acc_gb)\n",
    "print(\"Precision: \",metrics.precision_score(test_y,y_pred_gb))"
   ]
  },
  {
   "cell_type": "code",
   "execution_count": 196,
   "metadata": {},
   "outputs": [
    {
     "name": "stdout",
     "output_type": "stream",
     "text": [
      "GB F1 Score : [0.89561044 0.88770571]\n"
     ]
    }
   ],
   "source": [
    "print(\"GB F1 Score :\",metrics.f1_score(test_y,gb.predict(test_x),average=None))"
   ]
  },
  {
   "cell_type": "code",
   "execution_count": 197,
   "metadata": {},
   "outputs": [],
   "source": [
    "import pickle\n",
    "filename=\"model_final.pkl\"\n",
    "pickle.dump(logreg,open(filename,'wb'))"
   ]
  },
  {
   "cell_type": "code",
   "execution_count": 198,
   "metadata": {},
   "outputs": [
    {
     "name": "stdout",
     "output_type": "stream",
     "text": [
      "[1]\n"
     ]
    }
   ],
   "source": [
    "input=[[1 , 2 ,  2, 150 ,  0  , 2  , 2  , 0  , 0  , 0  , 0  , 1  , 0  , 0  , 0  , 0 ,  0 ,  0 , 0  , 0 ,  1 ,  0 ,  0 ,  0,   0]]\n",
    "input=np.array(input)\n",
    "pred=logreg.predict(input)\n",
    "print(pred)"
   ]
  },
  {
   "cell_type": "code",
   "execution_count": null,
   "metadata": {},
   "outputs": [],
   "source": []
  }
 ],
 "metadata": {
  "kernelspec": {
   "display_name": "Python 3",
   "language": "python",
   "name": "python3"
  },
  "language_info": {
   "codemirror_mode": {
    "name": "ipython",
    "version": 3
   },
   "file_extension": ".py",
   "mimetype": "text/x-python",
   "name": "python",
   "nbconvert_exporter": "python",
   "pygments_lexer": "ipython3",
   "version": "3.9.5"
  },
  "orig_nbformat": 4,
  "vscode": {
   "interpreter": {
    "hash": "77127c77d53bd9bb77759bc6e77f566fdaa1d765e2aeb48353a11a6da6d87740"
   }
  }
 },
 "nbformat": 4,
 "nbformat_minor": 2
}
